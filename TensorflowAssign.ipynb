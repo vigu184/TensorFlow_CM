{
  "nbformat": 4,
  "nbformat_minor": 0,
  "metadata": {
    "colab": {
      "name": "TensorflowAssign",
      "provenance": [],
      "collapsed_sections": [],
      "toc_visible": true,
      "include_colab_link": true
    },
    "kernelspec": {
      "display_name": "Python 3",
      "name": "python3"
    }
  },
  "cells": [
    {
      "cell_type": "markdown",
      "metadata": {
        "id": "view-in-github",
        "colab_type": "text"
      },
      "source": [
        "<a href=\"https://colab.research.google.com/github/vigu184/TensorFlow_CM/blob/master/TensorflowAssign.ipynb\" target=\"_parent\"><img src=\"https://colab.research.google.com/assets/colab-badge.svg\" alt=\"Open In Colab\"/></a>"
      ]
    },
    {
      "cell_type": "code",
      "metadata": {
        "id": "Y04m-jvKRDsJ"
      },
      "source": [
        "import tensorflow as tf\n",
        "import numpy as np \n",
        "import matplotlib.pyplot as plt\n",
        "from sklearn.metrics import confusion_matrix"
      ],
      "execution_count": null,
      "outputs": []
    },
    {
      "cell_type": "code",
      "metadata": {
        "id": "quipNpndAK7J"
      },
      "source": [
        "image_set = tf.keras.datasets.cifar10"
      ],
      "execution_count": null,
      "outputs": []
    },
    {
      "cell_type": "code",
      "metadata": {
        "id": "e7HwPQsoASzu"
      },
      "source": [
        "(train_images, train_labels), (test_images, test_labels) = image_set.load_data()"
      ],
      "execution_count": null,
      "outputs": []
    },
    {
      "cell_type": "code",
      "metadata": {
        "id": "_Lq6mah0AYX1"
      },
      "source": [
        "class_names = ['airplane', 'automobile', 'bird', 'cat', 'deer',\n",
        "               'dog', 'frog', 'horse', 'ship', 'truck']"
      ],
      "execution_count": null,
      "outputs": []
    },
    {
      "cell_type": "code",
      "metadata": {
        "id": "rK3lcdb2AeBi",
        "colab": {
          "base_uri": "https://localhost:8080/"
        },
        "outputId": "7bdffe04-f27c-41b4-8d7d-7cc913f32464"
      },
      "source": [
        "train_images=train_images/255.0\n",
        "train_images.shape"
      ],
      "execution_count": null,
      "outputs": [
        {
          "output_type": "execute_result",
          "data": {
            "text/plain": [
              "(50000, 32, 32, 3)"
            ]
          },
          "metadata": {
            "tags": []
          },
          "execution_count": 53
        }
      ]
    },
    {
      "cell_type": "code",
      "metadata": {
        "id": "rkJzkzirAkHa",
        "colab": {
          "base_uri": "https://localhost:8080/"
        },
        "outputId": "a9a501e6-0595-4ad6-b48a-952a02fccd1a"
      },
      "source": [
        "test_images=test_images/255.0\n",
        "test_images.shape\n",
        "test_labels.shape"
      ],
      "execution_count": null,
      "outputs": [
        {
          "output_type": "execute_result",
          "data": {
            "text/plain": [
              "(10000, 1)"
            ]
          },
          "metadata": {
            "tags": []
          },
          "execution_count": 54
        }
      ]
    },
    {
      "cell_type": "code",
      "metadata": {
        "id": "0Jdo7SF3AoPm",
        "colab": {
          "base_uri": "https://localhost:8080/",
          "height": 283
        },
        "outputId": "5aa71ee0-4d0c-4238-ebf1-4ddcc41ac621"
      },
      "source": [
        "plt.imshow(test_images[150])"
      ],
      "execution_count": null,
      "outputs": [
        {
          "output_type": "execute_result",
          "data": {
            "text/plain": [
              "<matplotlib.image.AxesImage at 0x7f07e40a1810>"
            ]
          },
          "metadata": {
            "tags": []
          },
          "execution_count": 55
        },
        {
          "output_type": "display_data",
          "data": {
            "image/png": "[encoded data removed]",
            "text/plain": [
              "<Figure size 432x288 with 1 Axes>"
            ]
          },
          "metadata": {
            "tags": [],
            "needs_background": "light"
          }
        }
      ]
    },
    {
      "cell_type": "code",
      "metadata": {
        "id": "qixnCfp5Aqde"
      },
      "source": [
        "c10=tf.keras.models.Sequential()"
      ],
      "execution_count": null,
      "outputs": []
    },
    {
      "cell_type": "code",
      "metadata": {
        "id": "bc5Nr1QsA9lF"
      },
      "source": [
        "c10.add(tf.keras.layers.Conv2D(filters=32, kernel_size=3, activation=\"relu\", input_shape=[32,32,3]))"
      ],
      "execution_count": null,
      "outputs": []
    },
    {
      "cell_type": "code",
      "metadata": {
        "id": "QPM_Hrd0BHhw"
      },
      "source": [
        "c10.add(tf.keras.layers.Conv2D(filters=32, kernel_size=3, activation=\"relu\"))"
      ],
      "execution_count": null,
      "outputs": []
    },
    {
      "cell_type": "code",
      "metadata": {
        "id": "Ctlp_-eUBN3z"
      },
      "source": [
        "c10.add(tf.keras.layers.MaxPool2D(pool_size=2, strides=2, padding='valid'))"
      ],
      "execution_count": null,
      "outputs": []
    },
    {
      "cell_type": "code",
      "metadata": {
        "id": "VH-H1AF_BOET"
      },
      "source": [
        "c10.add(tf.keras.layers.Conv2D(filters=64,kernel_size=3,padding=\"same\", activation=\"relu\"))"
      ],
      "execution_count": null,
      "outputs": []
    },
    {
      "cell_type": "code",
      "metadata": {
        "id": "KpCcuVktBOMu"
      },
      "source": [
        "c10.add(tf.keras.layers.Conv2D(filters=64,kernel_size=3, padding=\"same\", activation=\"relu\"))"
      ],
      "execution_count": null,
      "outputs": []
    },
    {
      "cell_type": "code",
      "metadata": {
        "id": "a9_1kBZKBOPS"
      },
      "source": [
        "c10.add(tf.keras.layers.MaxPool2D(pool_size=2, strides=2, padding='valid'))"
      ],
      "execution_count": null,
      "outputs": []
    },
    {
      "cell_type": "code",
      "metadata": {
        "id": "RAtX-OupBOSq"
      },
      "source": [
        "c10.add(tf.keras.layers.Flatten())"
      ],
      "execution_count": null,
      "outputs": []
    },
    {
      "cell_type": "code",
      "metadata": {
        "id": "PgsvDjUFFH3r"
      },
      "source": [
        "c10.add(tf.keras.layers.Dropout(0.5,noise_shape=None,seed=None))"
      ],
      "execution_count": null,
      "outputs": []
    },
    {
      "cell_type": "code",
      "metadata": {
        "id": "NNB4_HwhFH7J"
      },
      "source": [
        "c10.add(tf.keras.layers.Dense(units=128,activation='relu'))\n",
        "c10.add(tf.keras.layers.Dense(units=128,activation='softmax'))"
      ],
      "execution_count": null,
      "outputs": []
    },
    {
      "cell_type": "code",
      "metadata": {
        "id": "rorr1sTFFZLg",
        "colab": {
          "base_uri": "https://localhost:8080/"
        },
        "outputId": "9b09e90b-5125-4734-a4b0-9d3778defdd6"
      },
      "source": [
        "c10.summary()"
      ],
      "execution_count": null,
      "outputs": [
        {
          "output_type": "stream",
          "text": [
            "Model: \"sequential_1\"\n",
            "_________________________________________________________________\n",
            "Layer (type)                 Output Shape              Param #   \n",
            "=================================================================\n",
            "conv2d_5 (Conv2D)            (None, 30, 30, 32)        896       \n",
            "_________________________________________________________________\n",
            "conv2d_6 (Conv2D)            (None, 28, 28, 32)        9248      \n",
            "_________________________________________________________________\n",
            "max_pooling2d_2 (MaxPooling2 (None, 14, 14, 32)        0         \n",
            "_________________________________________________________________\n",
            "conv2d_7 (Conv2D)            (None, 14, 14, 64)        18496     \n",
            "_________________________________________________________________\n",
            "conv2d_8 (Conv2D)            (None, 14, 14, 64)        36928     \n",
            "_________________________________________________________________\n",
            "max_pooling2d_3 (MaxPooling2 (None, 7, 7, 64)          0         \n",
            "_________________________________________________________________\n",
            "flatten_1 (Flatten)          (None, 3136)              0         \n",
            "_________________________________________________________________\n",
            "dropout_1 (Dropout)          (None, 3136)              0         \n",
            "_________________________________________________________________\n",
            "dense_2 (Dense)              (None, 128)               401536    \n",
            "_________________________________________________________________\n",
            "dense_3 (Dense)              (None, 128)               16512     \n",
            "=================================================================\n",
            "Total params: 483,616\n",
            "Trainable params: 483,616\n",
            "Non-trainable params: 0\n",
            "_________________________________________________________________\n"
          ],
          "name": "stdout"
        }
      ]
    },
    {
      "cell_type": "code",
      "metadata": {
        "id": "U4-1vbP0Fgqo"
      },
      "source": [
        "c10.compile(loss=\"sparse_categorical_crossentropy\", optimizer=\"Adam\", metrics=[\"sparse_categorical_accuracy\"])\n"
      ],
      "execution_count": null,
      "outputs": []
    },
    {
      "cell_type": "code",
      "metadata": {
        "id": "1D1OERBtFpjW",
        "colab": {
          "base_uri": "https://localhost:8080/"
        },
        "outputId": "70b02898-4a3d-44fe-e874-f0e1daddb0d4"
      },
      "source": [
        "c10.fit(train_images, train_labels,epochs=15)"
      ],
      "execution_count": null,
      "outputs": [
        {
          "output_type": "stream",
          "text": [
            "Epoch 1/15\n",
            "1563/1563 [==============================] - 219s 140ms/step - loss: 1.5312 - sparse_categorical_accuracy: 0.4490\n",
            "Epoch 2/15\n",
            "1563/1563 [==============================] - 219s 140ms/step - loss: 1.0782 - sparse_categorical_accuracy: 0.6157\n",
            "Epoch 3/15\n",
            "1563/1563 [==============================] - 225s 144ms/step - loss: 0.9128 - sparse_categorical_accuracy: 0.6767\n",
            "Epoch 4/15\n",
            "1563/1563 [==============================] - 227s 146ms/step - loss: 0.8255 - sparse_categorical_accuracy: 0.7094\n",
            "Epoch 5/15\n",
            "1563/1563 [==============================] - 228s 146ms/step - loss: 0.7527 - sparse_categorical_accuracy: 0.7350\n",
            "Epoch 6/15\n",
            "1563/1563 [==============================] - 226s 144ms/step - loss: 0.6955 - sparse_categorical_accuracy: 0.7532\n",
            "Epoch 7/15\n",
            "1563/1563 [==============================] - 220s 140ms/step - loss: 0.6470 - sparse_categorical_accuracy: 0.7717\n",
            "Epoch 8/15\n",
            "1563/1563 [==============================] - 219s 140ms/step - loss: 0.6132 - sparse_categorical_accuracy: 0.7843\n",
            "Epoch 9/15\n",
            "1563/1563 [==============================] - 219s 140ms/step - loss: 0.5773 - sparse_categorical_accuracy: 0.7964\n",
            "Epoch 10/15\n",
            "1563/1563 [==============================] - 217s 139ms/step - loss: 0.5496 - sparse_categorical_accuracy: 0.8042\n",
            "Epoch 11/15\n",
            "1563/1563 [==============================] - 218s 139ms/step - loss: 0.5242 - sparse_categorical_accuracy: 0.8135\n",
            "Epoch 12/15\n",
            "1563/1563 [==============================] - 218s 139ms/step - loss: 0.4997 - sparse_categorical_accuracy: 0.8205\n",
            "Epoch 13/15\n",
            "1563/1563 [==============================] - 218s 139ms/step - loss: 0.4829 - sparse_categorical_accuracy: 0.8272\n",
            "Epoch 14/15\n",
            "1563/1563 [==============================] - 217s 139ms/step - loss: 0.4631 - sparse_categorical_accuracy: 0.8354\n",
            "Epoch 15/15\n",
            "1563/1563 [==============================] - 219s 140ms/step - loss: 0.4487 - sparse_categorical_accuracy: 0.8403\n"
          ],
          "name": "stdout"
        },
        {
          "output_type": "execute_result",
          "data": {
            "text/plain": [
              "<tensorflow.python.keras.callbacks.History at 0x7f07e3fcd550>"
            ]
          },
          "metadata": {
            "tags": []
          },
          "execution_count": 68
        }
      ]
    },
    {
      "cell_type": "code",
      "metadata": {
        "id": "EOxX_DTkfXFJ"
      },
      "source": [
        "test_labels_pred = c10.predict(test_images)"
      ],
      "execution_count": null,
      "outputs": []
    },
    {
      "cell_type": "code",
      "metadata": {
        "id": "C5nsnid1nWrU",
        "colab": {
          "base_uri": "https://localhost:8080/"
        },
        "outputId": "2a87c972-d439-4d32-b98a-d6cc230bd28f"
      },
      "source": [
        "test_labels_pred.shape"
      ],
      "execution_count": null,
      "outputs": [
        {
          "output_type": "execute_result",
          "data": {
            "text/plain": [
              "(10000, 128)"
            ]
          },
          "metadata": {
            "tags": []
          },
          "execution_count": 70
        }
      ]
    },
    {
      "cell_type": "code",
      "metadata": {
        "id": "CldW_vf8pfdP",
        "colab": {
          "base_uri": "https://localhost:8080/"
        },
        "outputId": "219d6d1e-72e4-4af5-bd92-c4c030ecb24a"
      },
      "source": [
        "label_pred=np.argmax(test_labels_pred, axis=1)\n",
        "label_pred.shape"
      ],
      "execution_count": null,
      "outputs": [
        {
          "output_type": "execute_result",
          "data": {
            "text/plain": [
              "(10000,)"
            ]
          },
          "metadata": {
            "tags": []
          },
          "execution_count": 76
        }
      ]
    },
    {
      "cell_type": "code",
      "metadata": {
        "id": "cO265PyI4AMa",
        "colab": {
          "base_uri": "https://localhost:8080/",
          "height": 437
        },
        "outputId": "5c855bfa-8254-41fc-cd2b-084e1301414c"
      },
      "source": [
        "import seaborn as sn\n",
        "import pandas as pd\n",
        "import matplotlib.pyplot as plt\n",
        "cm = confusion_matrix(test_labels,label_pred)\n",
        "index = ['airplane', 'automobile', 'bird', 'cat', 'deer',\n",
        "               'dog', 'frog', 'horse', 'ship', 'truck']\n",
        "columns = ['airplane', 'automobile', 'bird', 'cat', 'deer',\n",
        "               'dog', 'frog', 'horse', 'ship', 'truck']\n",
        "cm_df = pd.DataFrame(cm,columns,index) \n",
        "plt.figure(figsize=(10,6))\n",
        "plt.xlabel('predicted label')\n",
        "plt.ylabel('actual label')           \n",
        "sn.heatmap(cm_df, annot=True, fmt='g')"
      ],
      "execution_count": null,
      "outputs": [
        {
          "output_type": "execute_result",
          "data": {
            "text/plain": [
              "<matplotlib.axes._subplots.AxesSubplot at 0x7f07d8ee3c10>"
            ]
          },
          "metadata": {
            "tags": []
          },
          "execution_count": 117
        },
        {
          "output_type": "display_data",
          "data": {
            "image/png": "[encoded data removed]",
            "text/plain": [
              "<Figure size 720x432 with 2 Axes>"
            ]
          },
          "metadata": {
            "tags": [],
            "needs_background": "light"
          }
        }
      ]
    },
    {
      "cell_type": "code",
      "metadata": {
        "id": "qAKoEgkl8xIo"
      },
      "source": [
        ""
      ],
      "execution_count": null,
      "outputs": []
    }
  ]
}